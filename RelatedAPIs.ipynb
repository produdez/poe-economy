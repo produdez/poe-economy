{
 "cells": [
  {
   "cell_type": "markdown",
   "metadata": {},
   "source": [
    "# Related APIs"
   ]
  },
  {
   "cell_type": "markdown",
   "metadata": {},
   "source": [
    "## POE Official API\n",
    "\n",
    "References:\n",
    "- https://app.swaggerhub.com/apis-docs/Chuanhsing/poe/1.0.0#/Trade/get_api_trade_data_stats\n",
    "- https://www.pathofexile.com/developer/docs"
   ]
  },
  {
   "cell_type": "markdown",
   "metadata": {},
   "source": [
    "## POE Ninja\n",
    "```\n",
    "Source of data\n",
    "```\n",
    "https://poe.ninja/"
   ]
  },
  {
   "cell_type": "markdown",
   "metadata": {},
   "source": [
    "## POE Ninja API"
   ]
  },
  {
   "cell_type": "markdown",
   "metadata": {},
   "source": [
    "This is the HTML endpoint of poe-ninja, we can get additional data here if needed\n",
    "\n",
    "References:\n",
    "- https://github.com/5k-mirrors/misc-poe-tools/blob/master/doc/poe-ninja-api.md\n",
    "- https://www.reddit.com/r/pathofexiledev/comments/d9ubuv/poeninja_api/"
   ]
  },
  {
   "cell_type": "markdown",
   "metadata": {},
   "source": [
    "## POE Antiquary"
   ]
  },
  {
   "cell_type": "markdown",
   "metadata": {},
   "source": [
    "A site that helps us to graph price of item in past leagues, this site uses data from POE Ninja API (https://poe-antiquary.xyz/)"
   ]
  },
  {
   "cell_type": "markdown",
   "metadata": {},
   "source": [
    "## POE Watch"
   ]
  },
  {
   "cell_type": "markdown",
   "metadata": {},
   "source": [
    "Quite useless (https://poe.watch/)"
   ]
  }
 ],
 "metadata": {
  "language_info": {
   "name": "python"
  },
  "orig_nbformat": 4
 },
 "nbformat": 4,
 "nbformat_minor": 2
}
