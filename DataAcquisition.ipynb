{
 "cells": [
  {
   "cell_type": "markdown",
   "metadata": {},
   "source": [
    "# Data Acquisition"
   ]
  },
  {
   "cell_type": "markdown",
   "metadata": {},
   "source": [
    "## POE Ninja"
   ]
  },
  {
   "cell_type": "markdown",
   "metadata": {},
   "source": [
    "https://poe.ninja/ is a crucial part of the project, from the description of the site:\n",
    "```\n",
    "Path of Exile has a currency system consisting of various orbs and scrolls with no fixed value. Keeping on top of fluctuating exchange rates between the different currencies is almost impossible.\n",
    "```\n",
    "\n",
    "And POE Ninja helps us to:\n",
    "**\"crunches the numbers and performs the calculations.\"**\n",
    "\n",
    "Thanks to this, we can work with the medium exchange currency with the data acquired from this site without dealing with value inconsistency."
   ]
  },
  {
   "cell_type": "markdown",
   "metadata": {},
   "source": [
    "![image](images/poe_ninja.png)"
   ]
  },
  {
   "cell_type": "markdown",
   "metadata": {},
   "source": [
    "### Data Source"
   ]
  },
  {
   "cell_type": "markdown",
   "metadata": {},
   "source": [
    "Poe ninja keeps a data dump of many POE leagues in form of CSV files, and this will be the data source for our project\n",
    "\n",
    "Link: https://poe.ninja/data"
   ]
  },
  {
   "cell_type": "markdown",
   "metadata": {},
   "source": [
    "- The data include all leagues from `Essence` league to the current league `Scourge` (excluding the current league).\n",
    "\n",
    "- 18 Most recent leagues to be precise (compare to the total 35 leagues)"
   ]
  },
  {
   "cell_type": "markdown",
   "metadata": {},
   "source": [
    "**Example data**\n",
    "\n",
    "```\n",
    "League; Date;       Get;            Pay;        Value;      Confidence\n",
    "Abyss;  2017-12-09; Exalted Orb;    Chaos Orb;  26.16644;   High\n",
    "Abyss;  2017-12-10; Exalted Orb;    Chaos Orb;  35.92556;   High\n",
    "```"
   ]
  },
  {
   "cell_type": "markdown",
   "metadata": {},
   "source": [
    "**We will be using this to conduct our research**, more detail in data exploration"
   ]
  }
 ],
 "metadata": {
  "language_info": {
   "name": "python"
  },
  "orig_nbformat": 4
 },
 "nbformat": 4,
 "nbformat_minor": 2
}
