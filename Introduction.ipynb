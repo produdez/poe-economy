{
 "cells": [
  {
   "cell_type": "markdown",
   "metadata": {},
   "source": [
    "# Introduction"
   ]
  },
  {
   "cell_type": "markdown",
   "metadata": {},
   "source": [
    "## What is POE\n",
    "**Brief Wikipedia**\n",
    "\n",
    "Path of Exile is a free-to-play action role-playing video game developed and published by Grinding Gear Games. Following an open beta phase, the game was released for Microsoft Windows in October 2013. A version for Xbox One was released in August 2017, and a PlayStation 4 version was released in March 2019."
   ]
  },
  {
   "cell_type": "markdown",
   "metadata": {},
   "source": [
    "![image](images/poe_sample_art.jpg)\n",
    "![image](images/poe_gameplay_0.jpg)"
   ]
  },
  {
   "cell_type": "markdown",
   "metadata": {},
   "source": [
    "## The Economy of POE"
   ]
  },
  {
   "cell_type": "markdown",
   "metadata": {},
   "source": [
    "As an online RPG MMO, POE of course is packed with many many interesting features\n",
    "- Gameplay wise, the game has many many events and interactive system to keep player interested\n",
    "- The graphics is constantly updated\n",
    "- Items are always updated, balance, new item every new major game patch, etc "
   ]
  },
  {
   "cell_type": "markdown",
   "metadata": {},
   "source": [
    "**BUT**\n",
    "\n",
    "The game would not be finished without mentioning its market place. **Though sound simple, the economy is more than half of the game itself.**\n",
    "\n",
    "- Firstly, player find item, trade for other items and make profit along the way, accumulating more wealth and allowing them to build better and stronger character for the adventure\n",
    "- Secondly, as every other real world market, there are all the interactions inside the market:\n",
    "  - Selling looted stuff for profit\n",
    "  - Flipping item (buy low sell high)\n",
    "  - Selling item in bulk at higher price\n",
    "  - Scam people (of course this happens)\n",
    "  - First seller sets the price\n",
    "  - Price is also driven demand and supply\n",
    "  - And even things that are not items can also be traded, the market is always teeming with life\n",
    "\n",
    "That's what make playing the game so much more interesting for many"
   ]
  },
  {
   "cell_type": "markdown",
   "metadata": {},
   "source": [
    "### The Medium of Exchange"
   ]
  },
  {
   "cell_type": "markdown",
   "metadata": {},
   "source": [
    "**Interestingly, in POE, there is no such thing is 'MONEY', the developer never specifically implement real world cash or coins to regulate the system, but instead, just as any free trading market, trading innovation needs the invention of some Medium Of Exchange.**"
   ]
  },
  {
   "cell_type": "markdown",
   "metadata": {},
   "source": [
    "And in this case, the player base of POE chose the **Chaos Orb** as their in game `Money`\n",
    "![alt](images/poe_chaos_orb.jpg) Chaos Orb"
   ]
  },
  {
   "cell_type": "markdown",
   "metadata": {},
   "source": [
    "The reason this is chosen is also fairly simple:\n",
    "- It's a relatively easy to obtain item\n",
    "- The amount of `chaos orb` in the economy increases overtime very fast as the play time goes on and player acquire more of it\n",
    "- It does not inflate too quick because it is not something that can be mass produce too fast. This is also the reason that other more common items are not used as the medium of exchange (i think)"
   ]
  }
 ],
 "metadata": {
  "language_info": {
   "name": "python"
  },
  "orig_nbformat": 4
 },
 "nbformat": 4,
 "nbformat_minor": 2
}
