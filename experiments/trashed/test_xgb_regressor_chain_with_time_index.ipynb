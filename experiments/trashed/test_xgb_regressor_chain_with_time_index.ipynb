{
 "cells": [
  {
   "cell_type": "code",
   "execution_count": 115,
   "metadata": {},
   "outputs": [
    {
     "name": "stdout",
     "output_type": "stream",
     "text": [
      "Config finished!\n"
     ]
    }
   ],
   "source": [
    "import numpy as np\n",
    "import seaborn as sns\n",
    "import pandas as pd\n",
    "import matplotlib.pyplot as plt\n",
    "\n",
    "#setup\n",
    "import os, sys\n",
    "current_path = os.path.abspath('')\n",
    "parent_path = os.path.dirname(current_path)\n",
    "source_path = f'{parent_path}\\\\src'\n",
    "if not source_path in sys.path: sys.path.append(source_path)\n",
    "\n",
    "#customs\n",
    "# from data_model import *\n",
    "# from data_helper import *\n",
    "from config import *\n",
    "setup()"
   ]
  },
  {
   "cell_type": "code",
   "execution_count": 116,
   "metadata": {},
   "outputs": [
    {
     "data": {
      "text/html": [
       "<div>\n",
       "<style scoped>\n",
       "    .dataframe tbody tr th:only-of-type {\n",
       "        vertical-align: middle;\n",
       "    }\n",
       "\n",
       "    .dataframe tbody tr th {\n",
       "        vertical-align: top;\n",
       "    }\n",
       "\n",
       "    .dataframe thead th {\n",
       "        text-align: right;\n",
       "    }\n",
       "</style>\n",
       "<table border=\"1\" class=\"dataframe\">\n",
       "  <thead>\n",
       "    <tr style=\"text-align: right;\">\n",
       "      <th></th>\n",
       "      <th>Value</th>\n",
       "      <th>League</th>\n",
       "      <th>Confidence</th>\n",
       "      <th>LeagueDay</th>\n",
       "    </tr>\n",
       "    <tr>\n",
       "      <th>Date</th>\n",
       "      <th></th>\n",
       "      <th></th>\n",
       "      <th></th>\n",
       "      <th></th>\n",
       "    </tr>\n",
       "  </thead>\n",
       "  <tbody>\n",
       "    <tr>\n",
       "      <th>2016-09-08</th>\n",
       "      <td>64.00417</td>\n",
       "      <td>Essence</td>\n",
       "      <td>0</td>\n",
       "      <td>1.0</td>\n",
       "    </tr>\n",
       "    <tr>\n",
       "      <th>2016-09-09</th>\n",
       "      <td>64.51451</td>\n",
       "      <td>Essence</td>\n",
       "      <td>0</td>\n",
       "      <td>2.0</td>\n",
       "    </tr>\n",
       "    <tr>\n",
       "      <th>2016-09-10</th>\n",
       "      <td>65.00280</td>\n",
       "      <td>Essence</td>\n",
       "      <td>0</td>\n",
       "      <td>3.0</td>\n",
       "    </tr>\n",
       "    <tr>\n",
       "      <th>2016-09-11</th>\n",
       "      <td>65.05764</td>\n",
       "      <td>Essence</td>\n",
       "      <td>0</td>\n",
       "      <td>4.0</td>\n",
       "    </tr>\n",
       "    <tr>\n",
       "      <th>2016-09-12</th>\n",
       "      <td>65.98811</td>\n",
       "      <td>Essence</td>\n",
       "      <td>0</td>\n",
       "      <td>5.0</td>\n",
       "    </tr>\n",
       "  </tbody>\n",
       "</table>\n",
       "</div>"
      ],
      "text/plain": [
       "               Value   League  Confidence  LeagueDay\n",
       "Date                                                \n",
       "2016-09-08  64.00417  Essence           0        1.0\n",
       "2016-09-09  64.51451  Essence           0        2.0\n",
       "2016-09-10  65.00280  Essence           0        3.0\n",
       "2016-09-11  65.05764  Essence           0        4.0\n",
       "2016-09-12  65.98811  Essence           0        5.0"
      ]
     },
     "execution_count": 116,
     "metadata": {},
     "output_type": "execute_result"
    }
   ],
   "source": [
    "df = pd.read_csv('./data/V1.ExaltedOrb.csv', index_col='Date', parse_dates=True)\n",
    "df.head()"
   ]
  },
  {
   "cell_type": "code",
   "execution_count": 117,
   "metadata": {},
   "outputs": [],
   "source": [
    "def train_val_split(df, selected_features):\n",
    "    is_last_league = df['League'] == Constants.LEAGUES[-1]\n",
    "\n",
    "    df_selected = df[selected_features]\n",
    "    df_train = df_selected[~is_last_league]\n",
    "    df_val = df_selected[is_last_league]\n",
    "    return df_train, df_val\n",
    "def print_train_val_stats(train,val):\n",
    "    print('shapes: ', train.shape, val.shape)\n",
    "    display(train.head())\n",
    "    display(val.head())"
   ]
  },
  {
   "cell_type": "code",
   "execution_count": 118,
   "metadata": {},
   "outputs": [
    {
     "name": "stdout",
     "output_type": "stream",
     "text": [
      "shapes:  (1719, 3) (88, 3)\n"
     ]
    },
    {
     "data": {
      "text/html": [
       "<div>\n",
       "<style scoped>\n",
       "    .dataframe tbody tr th:only-of-type {\n",
       "        vertical-align: middle;\n",
       "    }\n",
       "\n",
       "    .dataframe tbody tr th {\n",
       "        vertical-align: top;\n",
       "    }\n",
       "\n",
       "    .dataframe thead th {\n",
       "        text-align: right;\n",
       "    }\n",
       "</style>\n",
       "<table border=\"1\" class=\"dataframe\">\n",
       "  <thead>\n",
       "    <tr style=\"text-align: right;\">\n",
       "      <th></th>\n",
       "      <th>Value</th>\n",
       "      <th>LeagueDay</th>\n",
       "      <th>Confidence</th>\n",
       "    </tr>\n",
       "    <tr>\n",
       "      <th>Date</th>\n",
       "      <th></th>\n",
       "      <th></th>\n",
       "      <th></th>\n",
       "    </tr>\n",
       "  </thead>\n",
       "  <tbody>\n",
       "    <tr>\n",
       "      <th>2016-09-08</th>\n",
       "      <td>64.00417</td>\n",
       "      <td>1.0</td>\n",
       "      <td>0</td>\n",
       "    </tr>\n",
       "    <tr>\n",
       "      <th>2016-09-09</th>\n",
       "      <td>64.51451</td>\n",
       "      <td>2.0</td>\n",
       "      <td>0</td>\n",
       "    </tr>\n",
       "    <tr>\n",
       "      <th>2016-09-10</th>\n",
       "      <td>65.00280</td>\n",
       "      <td>3.0</td>\n",
       "      <td>0</td>\n",
       "    </tr>\n",
       "    <tr>\n",
       "      <th>2016-09-11</th>\n",
       "      <td>65.05764</td>\n",
       "      <td>4.0</td>\n",
       "      <td>0</td>\n",
       "    </tr>\n",
       "    <tr>\n",
       "      <th>2016-09-12</th>\n",
       "      <td>65.98811</td>\n",
       "      <td>5.0</td>\n",
       "      <td>0</td>\n",
       "    </tr>\n",
       "  </tbody>\n",
       "</table>\n",
       "</div>"
      ],
      "text/plain": [
       "               Value  LeagueDay  Confidence\n",
       "Date                                       \n",
       "2016-09-08  64.00417        1.0           0\n",
       "2016-09-09  64.51451        2.0           0\n",
       "2016-09-10  65.00280        3.0           0\n",
       "2016-09-11  65.05764        4.0           0\n",
       "2016-09-12  65.98811        5.0           0"
      ]
     },
     "metadata": {},
     "output_type": "display_data"
    },
    {
     "data": {
      "text/html": [
       "<div>\n",
       "<style scoped>\n",
       "    .dataframe tbody tr th:only-of-type {\n",
       "        vertical-align: middle;\n",
       "    }\n",
       "\n",
       "    .dataframe tbody tr th {\n",
       "        vertical-align: top;\n",
       "    }\n",
       "\n",
       "    .dataframe thead th {\n",
       "        text-align: right;\n",
       "    }\n",
       "</style>\n",
       "<table border=\"1\" class=\"dataframe\">\n",
       "  <thead>\n",
       "    <tr style=\"text-align: right;\">\n",
       "      <th></th>\n",
       "      <th>Value</th>\n",
       "      <th>LeagueDay</th>\n",
       "      <th>Confidence</th>\n",
       "    </tr>\n",
       "    <tr>\n",
       "      <th>Date</th>\n",
       "      <th></th>\n",
       "      <th></th>\n",
       "      <th></th>\n",
       "    </tr>\n",
       "  </thead>\n",
       "  <tbody>\n",
       "    <tr>\n",
       "      <th>2021-07-23</th>\n",
       "      <td>50.00000</td>\n",
       "      <td>1.0</td>\n",
       "      <td>1</td>\n",
       "    </tr>\n",
       "    <tr>\n",
       "      <th>2021-07-24</th>\n",
       "      <td>62.00000</td>\n",
       "      <td>2.0</td>\n",
       "      <td>0</td>\n",
       "    </tr>\n",
       "    <tr>\n",
       "      <th>2021-07-25</th>\n",
       "      <td>72.57994</td>\n",
       "      <td>3.0</td>\n",
       "      <td>0</td>\n",
       "    </tr>\n",
       "    <tr>\n",
       "      <th>2021-07-26</th>\n",
       "      <td>77.00000</td>\n",
       "      <td>4.0</td>\n",
       "      <td>0</td>\n",
       "    </tr>\n",
       "    <tr>\n",
       "      <th>2021-07-27</th>\n",
       "      <td>75.91450</td>\n",
       "      <td>5.0</td>\n",
       "      <td>0</td>\n",
       "    </tr>\n",
       "  </tbody>\n",
       "</table>\n",
       "</div>"
      ],
      "text/plain": [
       "               Value  LeagueDay  Confidence\n",
       "Date                                       \n",
       "2021-07-23  50.00000        1.0           1\n",
       "2021-07-24  62.00000        2.0           0\n",
       "2021-07-25  72.57994        3.0           0\n",
       "2021-07-26  77.00000        4.0           0\n",
       "2021-07-27  75.91450        5.0           0"
      ]
     },
     "metadata": {},
     "output_type": "display_data"
    }
   ],
   "source": [
    "df_train, df_val = train_val_split(df, ['Value','LeagueDay','Confidence'])\n",
    "print_train_val_stats(df_train, df_val)"
   ]
  },
  {
   "cell_type": "code",
   "execution_count": 119,
   "metadata": {},
   "outputs": [],
   "source": [
    "# from sklearn.base import BaseEstimator, ClassifierMixin\n",
    "\n",
    "# class BoostedHybrid(BaseEstimator, ClassifierMixin):\n",
    "#     def __init__(self, model_1, model_2):\n",
    "#         self.model_1 = model_1\n",
    "#         self.model_2 = model_2\n",
    "#         self.y_columns = None  # store column names from fit method\n",
    "    \n",
    "#     def checkDataFrameInput(self, *df_inputs):\n",
    "#         last_df = df_inputs[-1]\n",
    "#         for i, df in enumerate(df_inputs[:-1]):\n",
    "#             if (last_df.index != df.index).any():\n",
    "#                 raise Exception(f'Input dataframes must have same index ({i}, {len(df_inputs) - 1})')\n",
    "#     def fit(self, X_1_and_2, y):\n",
    "#         self.checkDataFrameInput(*X_1_and_2, y)\n",
    "#         X_1, X_2 = X_1_and_2\n",
    "\n",
    "#         self.model_1.fit(X_1,y)\n",
    "#         y_fit = pd.DataFrame(\n",
    "#             self.model_1.predict(X_1),\n",
    "#             index=X_1.index, columns=y.columns,\n",
    "#         )\n",
    "\n",
    "#         y_resid = y - y_fit\n",
    "\n",
    "#         self.model_2.fit(X_2, y_resid)\n",
    "\n",
    "#         # Save column names for predict method\n",
    "#         self.y_columns = y.columns\n",
    "#         return self\n",
    "\n",
    "#     def predict(self, X_1_and_2):\n",
    "#         self.check_is_fitted()\n",
    "        \n",
    "#         self.checkDataFrameInput(*X_1_and_2)\n",
    "#         X_1, X_2 = X_1_and_2\n",
    "\n",
    "#         y_pred_trend = pd.DataFrame(\n",
    "#             self.model_1.predict(X_1),\n",
    "#             index=X_1.index, columns=self.y_columns,\n",
    "#         )\n",
    "#         y_pred_resid = pd.DataFrame(\n",
    "#             self.model_2.predict(X_2),\n",
    "#             index=X_2.index, columns=self.y_columns,\n",
    "#         )\n",
    "\n",
    "#         return y_pred_trend + y_pred_resid"
   ]
  },
  {
   "cell_type": "code",
   "execution_count": 120,
   "metadata": {},
   "outputs": [],
   "source": [
    "def make_lags(ts, lags, lead_time=1):\n",
    "    return pd.concat(\n",
    "        {\n",
    "            f'y_lag_{i}': ts.shift(i)\n",
    "            for i in range(lead_time, lags + lead_time)\n",
    "        },\n",
    "        axis=1)\n",
    "def make_multi_target(ts, steps, lead_time=1):\n",
    "    return pd.concat(\n",
    "        {\n",
    "            f'y_step_{i}': ts.shift(-i)\n",
    "            for i in range(lead_time, steps + lead_time)\n",
    "        },\n",
    "        axis=1)\n"
   ]
  },
  {
   "cell_type": "code",
   "execution_count": 121,
   "metadata": {},
   "outputs": [],
   "source": [
    "from statsmodels.tsa.deterministic import DeterministicProcess\n",
    "\n",
    "class FeatureEngineer:\n",
    "    def trend_features(self, df, training = True):\n",
    "        if training:\n",
    "            self.dp = DeterministicProcess(\n",
    "                index = df.index,\n",
    "                order = 4,\n",
    "                drop = True\n",
    "            )\n",
    "            X = self.dp.in_sample().fillna(0)\n",
    "        else:\n",
    "            X = self.dp.out_of_sample(df.shape[0]).fillna(0)\n",
    "        \n",
    "        return X\n",
    "    def residual_features(self, df, training = True, lags = 4):\n",
    "        if training:\n",
    "            self.dp = DeterministicProcess(\n",
    "                index = df.index,\n",
    "                order = 1,\n",
    "                drop = True\n",
    "            )\n",
    "            index_features = self.dp.in_sample().fillna(0)\n",
    "        else:\n",
    "            index_features = self.dp.out_of_sample(df.index).fillna(0)\n",
    "\n",
    "        lags = make_lags(df['Value'], lags).fillna(0)\n",
    "        selected_features = df[['Confidence', 'LeagueDay']]\n",
    "        return pd.concat(\n",
    "            [index_features, lags, selected_features],\n",
    "            axis = 1\n",
    "        )\n",
    "    def target(self, df, steps = 5):\n",
    "        return make_multi_target(df['Value'], steps).fillna(0)"
   ]
  },
  {
   "cell_type": "code",
   "execution_count": 122,
   "metadata": {},
   "outputs": [
    {
     "name": "stdout",
     "output_type": "stream",
     "text": [
      "(1719, 4)\n"
     ]
    },
    {
     "data": {
      "text/html": [
       "<div>\n",
       "<style scoped>\n",
       "    .dataframe tbody tr th:only-of-type {\n",
       "        vertical-align: middle;\n",
       "    }\n",
       "\n",
       "    .dataframe tbody tr th {\n",
       "        vertical-align: top;\n",
       "    }\n",
       "\n",
       "    .dataframe thead th {\n",
       "        text-align: right;\n",
       "    }\n",
       "</style>\n",
       "<table border=\"1\" class=\"dataframe\">\n",
       "  <thead>\n",
       "    <tr style=\"text-align: right;\">\n",
       "      <th></th>\n",
       "      <th>trend</th>\n",
       "      <th>trend_squared</th>\n",
       "      <th>trend_cubed</th>\n",
       "      <th>trend**4</th>\n",
       "    </tr>\n",
       "    <tr>\n",
       "      <th>Date</th>\n",
       "      <th></th>\n",
       "      <th></th>\n",
       "      <th></th>\n",
       "      <th></th>\n",
       "    </tr>\n",
       "  </thead>\n",
       "  <tbody>\n",
       "    <tr>\n",
       "      <th>2016-09-08</th>\n",
       "      <td>1.0</td>\n",
       "      <td>1.0</td>\n",
       "      <td>1.0</td>\n",
       "      <td>1.0</td>\n",
       "    </tr>\n",
       "    <tr>\n",
       "      <th>2016-09-09</th>\n",
       "      <td>2.0</td>\n",
       "      <td>4.0</td>\n",
       "      <td>8.0</td>\n",
       "      <td>16.0</td>\n",
       "    </tr>\n",
       "    <tr>\n",
       "      <th>2016-09-10</th>\n",
       "      <td>3.0</td>\n",
       "      <td>9.0</td>\n",
       "      <td>27.0</td>\n",
       "      <td>81.0</td>\n",
       "    </tr>\n",
       "    <tr>\n",
       "      <th>2016-09-11</th>\n",
       "      <td>4.0</td>\n",
       "      <td>16.0</td>\n",
       "      <td>64.0</td>\n",
       "      <td>256.0</td>\n",
       "    </tr>\n",
       "    <tr>\n",
       "      <th>2016-09-12</th>\n",
       "      <td>5.0</td>\n",
       "      <td>25.0</td>\n",
       "      <td>125.0</td>\n",
       "      <td>625.0</td>\n",
       "    </tr>\n",
       "  </tbody>\n",
       "</table>\n",
       "</div>"
      ],
      "text/plain": [
       "            trend  trend_squared  trend_cubed  trend**4\n",
       "Date                                                   \n",
       "2016-09-08    1.0            1.0          1.0       1.0\n",
       "2016-09-09    2.0            4.0          8.0      16.0\n",
       "2016-09-10    3.0            9.0         27.0      81.0\n",
       "2016-09-11    4.0           16.0         64.0     256.0\n",
       "2016-09-12    5.0           25.0        125.0     625.0"
      ]
     },
     "metadata": {},
     "output_type": "display_data"
    },
    {
     "data": {
      "text/plain": [
       "0"
      ]
     },
     "metadata": {},
     "output_type": "display_data"
    },
    {
     "name": "stdout",
     "output_type": "stream",
     "text": [
      "(1719, 7)\n"
     ]
    },
    {
     "data": {
      "text/html": [
       "<div>\n",
       "<style scoped>\n",
       "    .dataframe tbody tr th:only-of-type {\n",
       "        vertical-align: middle;\n",
       "    }\n",
       "\n",
       "    .dataframe tbody tr th {\n",
       "        vertical-align: top;\n",
       "    }\n",
       "\n",
       "    .dataframe thead th {\n",
       "        text-align: right;\n",
       "    }\n",
       "</style>\n",
       "<table border=\"1\" class=\"dataframe\">\n",
       "  <thead>\n",
       "    <tr style=\"text-align: right;\">\n",
       "      <th></th>\n",
       "      <th>trend</th>\n",
       "      <th>y_lag_1</th>\n",
       "      <th>y_lag_2</th>\n",
       "      <th>y_lag_3</th>\n",
       "      <th>y_lag_4</th>\n",
       "      <th>Confidence</th>\n",
       "      <th>LeagueDay</th>\n",
       "    </tr>\n",
       "    <tr>\n",
       "      <th>Date</th>\n",
       "      <th></th>\n",
       "      <th></th>\n",
       "      <th></th>\n",
       "      <th></th>\n",
       "      <th></th>\n",
       "      <th></th>\n",
       "      <th></th>\n",
       "    </tr>\n",
       "  </thead>\n",
       "  <tbody>\n",
       "    <tr>\n",
       "      <th>2016-09-08</th>\n",
       "      <td>1.0</td>\n",
       "      <td>0.00000</td>\n",
       "      <td>0.00000</td>\n",
       "      <td>0.00000</td>\n",
       "      <td>0.00000</td>\n",
       "      <td>0</td>\n",
       "      <td>1.0</td>\n",
       "    </tr>\n",
       "    <tr>\n",
       "      <th>2016-09-09</th>\n",
       "      <td>2.0</td>\n",
       "      <td>64.00417</td>\n",
       "      <td>0.00000</td>\n",
       "      <td>0.00000</td>\n",
       "      <td>0.00000</td>\n",
       "      <td>0</td>\n",
       "      <td>2.0</td>\n",
       "    </tr>\n",
       "    <tr>\n",
       "      <th>2016-09-10</th>\n",
       "      <td>3.0</td>\n",
       "      <td>64.51451</td>\n",
       "      <td>64.00417</td>\n",
       "      <td>0.00000</td>\n",
       "      <td>0.00000</td>\n",
       "      <td>0</td>\n",
       "      <td>3.0</td>\n",
       "    </tr>\n",
       "    <tr>\n",
       "      <th>2016-09-11</th>\n",
       "      <td>4.0</td>\n",
       "      <td>65.00280</td>\n",
       "      <td>64.51451</td>\n",
       "      <td>64.00417</td>\n",
       "      <td>0.00000</td>\n",
       "      <td>0</td>\n",
       "      <td>4.0</td>\n",
       "    </tr>\n",
       "    <tr>\n",
       "      <th>2016-09-12</th>\n",
       "      <td>5.0</td>\n",
       "      <td>65.05764</td>\n",
       "      <td>65.00280</td>\n",
       "      <td>64.51451</td>\n",
       "      <td>64.00417</td>\n",
       "      <td>0</td>\n",
       "      <td>5.0</td>\n",
       "    </tr>\n",
       "  </tbody>\n",
       "</table>\n",
       "</div>"
      ],
      "text/plain": [
       "            trend   y_lag_1   y_lag_2   y_lag_3   y_lag_4  Confidence  \\\n",
       "Date                                                                    \n",
       "2016-09-08    1.0   0.00000   0.00000   0.00000   0.00000           0   \n",
       "2016-09-09    2.0  64.00417   0.00000   0.00000   0.00000           0   \n",
       "2016-09-10    3.0  64.51451  64.00417   0.00000   0.00000           0   \n",
       "2016-09-11    4.0  65.00280  64.51451  64.00417   0.00000           0   \n",
       "2016-09-12    5.0  65.05764  65.00280  64.51451  64.00417           0   \n",
       "\n",
       "            LeagueDay  \n",
       "Date                   \n",
       "2016-09-08        1.0  \n",
       "2016-09-09        2.0  \n",
       "2016-09-10        3.0  \n",
       "2016-09-11        4.0  \n",
       "2016-09-12        5.0  "
      ]
     },
     "metadata": {},
     "output_type": "display_data"
    },
    {
     "data": {
      "text/plain": [
       "0"
      ]
     },
     "metadata": {},
     "output_type": "display_data"
    },
    {
     "name": "stdout",
     "output_type": "stream",
     "text": [
      "(1719, 5)\n"
     ]
    },
    {
     "data": {
      "text/html": [
       "<div>\n",
       "<style scoped>\n",
       "    .dataframe tbody tr th:only-of-type {\n",
       "        vertical-align: middle;\n",
       "    }\n",
       "\n",
       "    .dataframe tbody tr th {\n",
       "        vertical-align: top;\n",
       "    }\n",
       "\n",
       "    .dataframe thead th {\n",
       "        text-align: right;\n",
       "    }\n",
       "</style>\n",
       "<table border=\"1\" class=\"dataframe\">\n",
       "  <thead>\n",
       "    <tr style=\"text-align: right;\">\n",
       "      <th></th>\n",
       "      <th>y_step_1</th>\n",
       "      <th>y_step_2</th>\n",
       "      <th>y_step_3</th>\n",
       "      <th>y_step_4</th>\n",
       "      <th>y_step_5</th>\n",
       "    </tr>\n",
       "    <tr>\n",
       "      <th>Date</th>\n",
       "      <th></th>\n",
       "      <th></th>\n",
       "      <th></th>\n",
       "      <th></th>\n",
       "      <th></th>\n",
       "    </tr>\n",
       "  </thead>\n",
       "  <tbody>\n",
       "    <tr>\n",
       "      <th>2016-09-08</th>\n",
       "      <td>64.51451</td>\n",
       "      <td>65.00280</td>\n",
       "      <td>65.05764</td>\n",
       "      <td>65.98811</td>\n",
       "      <td>66.01724</td>\n",
       "    </tr>\n",
       "    <tr>\n",
       "      <th>2016-09-09</th>\n",
       "      <td>65.00280</td>\n",
       "      <td>65.05764</td>\n",
       "      <td>65.98811</td>\n",
       "      <td>66.01724</td>\n",
       "      <td>69.08462</td>\n",
       "    </tr>\n",
       "    <tr>\n",
       "      <th>2016-09-10</th>\n",
       "      <td>65.05764</td>\n",
       "      <td>65.98811</td>\n",
       "      <td>66.01724</td>\n",
       "      <td>69.08462</td>\n",
       "      <td>69.83986</td>\n",
       "    </tr>\n",
       "    <tr>\n",
       "      <th>2016-09-11</th>\n",
       "      <td>65.98811</td>\n",
       "      <td>66.01724</td>\n",
       "      <td>69.08462</td>\n",
       "      <td>69.83986</td>\n",
       "      <td>68.44797</td>\n",
       "    </tr>\n",
       "    <tr>\n",
       "      <th>2016-09-12</th>\n",
       "      <td>66.01724</td>\n",
       "      <td>69.08462</td>\n",
       "      <td>69.83986</td>\n",
       "      <td>68.44797</td>\n",
       "      <td>66.80162</td>\n",
       "    </tr>\n",
       "  </tbody>\n",
       "</table>\n",
       "</div>"
      ],
      "text/plain": [
       "            y_step_1  y_step_2  y_step_3  y_step_4  y_step_5\n",
       "Date                                                        \n",
       "2016-09-08  64.51451  65.00280  65.05764  65.98811  66.01724\n",
       "2016-09-09  65.00280  65.05764  65.98811  66.01724  69.08462\n",
       "2016-09-10  65.05764  65.98811  66.01724  69.08462  69.83986\n",
       "2016-09-11  65.98811  66.01724  69.08462  69.83986  68.44797\n",
       "2016-09-12  66.01724  69.08462  69.83986  68.44797  66.80162"
      ]
     },
     "metadata": {},
     "output_type": "display_data"
    },
    {
     "data": {
      "text/plain": [
       "0"
      ]
     },
     "metadata": {},
     "output_type": "display_data"
    }
   ],
   "source": [
    "feature_engineer = FeatureEngineer()\n",
    "X_train_trend, X_train_resid, y_train = [\n",
    "    feature_engineer.trend_features(df_train),\n",
    "    feature_engineer.residual_features(df_train),\n",
    "    feature_engineer.target(df_train)\n",
    "]\n",
    "for x in [X_train_trend, X_train_resid, y_train]:\n",
    "    print(x.shape)\n",
    "    display(x.head())\n",
    "    display(x.isna().sum().sum())"
   ]
  },
  {
   "cell_type": "code",
   "execution_count": 123,
   "metadata": {},
   "outputs": [],
   "source": [
    "from sklearn.multioutput import RegressorChain\n",
    "from sklearn.linear_model import LinearRegression\n",
    "from xgboost import XGBRegressor\n",
    "model = RegressorChain(base_estimator= XGBRegressor())"
   ]
  },
  {
   "cell_type": "code",
   "execution_count": 124,
   "metadata": {},
   "outputs": [
    {
     "data": {
      "text/html": [
       "<div>\n",
       "<style scoped>\n",
       "    .dataframe tbody tr th:only-of-type {\n",
       "        vertical-align: middle;\n",
       "    }\n",
       "\n",
       "    .dataframe tbody tr th {\n",
       "        vertical-align: top;\n",
       "    }\n",
       "\n",
       "    .dataframe thead th {\n",
       "        text-align: right;\n",
       "    }\n",
       "</style>\n",
       "<table border=\"1\" class=\"dataframe\">\n",
       "  <thead>\n",
       "    <tr style=\"text-align: right;\">\n",
       "      <th></th>\n",
       "      <th>y_step_1</th>\n",
       "      <th>y_step_2</th>\n",
       "      <th>y_step_3</th>\n",
       "      <th>y_step_4</th>\n",
       "      <th>y_step_5</th>\n",
       "    </tr>\n",
       "    <tr>\n",
       "      <th>Date</th>\n",
       "      <th></th>\n",
       "      <th></th>\n",
       "      <th></th>\n",
       "      <th></th>\n",
       "      <th></th>\n",
       "    </tr>\n",
       "  </thead>\n",
       "  <tbody>\n",
       "    <tr>\n",
       "      <th>2016-09-08</th>\n",
       "      <td>63.706745</td>\n",
       "      <td>64.869400</td>\n",
       "      <td>65.498589</td>\n",
       "      <td>66.155182</td>\n",
       "      <td>66.079536</td>\n",
       "    </tr>\n",
       "    <tr>\n",
       "      <th>2016-09-09</th>\n",
       "      <td>65.236427</td>\n",
       "      <td>65.222534</td>\n",
       "      <td>65.961159</td>\n",
       "      <td>66.135292</td>\n",
       "      <td>68.883369</td>\n",
       "    </tr>\n",
       "    <tr>\n",
       "      <th>2016-09-10</th>\n",
       "      <td>65.645859</td>\n",
       "      <td>66.796654</td>\n",
       "      <td>67.048416</td>\n",
       "      <td>68.636795</td>\n",
       "      <td>67.409920</td>\n",
       "    </tr>\n",
       "    <tr>\n",
       "      <th>2016-09-11</th>\n",
       "      <td>66.352905</td>\n",
       "      <td>66.097977</td>\n",
       "      <td>68.791031</td>\n",
       "      <td>69.895706</td>\n",
       "      <td>68.686699</td>\n",
       "    </tr>\n",
       "    <tr>\n",
       "      <th>2016-09-12</th>\n",
       "      <td>66.004944</td>\n",
       "      <td>68.683998</td>\n",
       "      <td>69.900002</td>\n",
       "      <td>68.854080</td>\n",
       "      <td>67.742599</td>\n",
       "    </tr>\n",
       "  </tbody>\n",
       "</table>\n",
       "</div>"
      ],
      "text/plain": [
       "             y_step_1   y_step_2   y_step_3   y_step_4   y_step_5\n",
       "Date                                                             \n",
       "2016-09-08  63.706745  64.869400  65.498589  66.155182  66.079536\n",
       "2016-09-09  65.236427  65.222534  65.961159  66.135292  68.883369\n",
       "2016-09-10  65.645859  66.796654  67.048416  68.636795  67.409920\n",
       "2016-09-11  66.352905  66.097977  68.791031  69.895706  68.686699\n",
       "2016-09-12  66.004944  68.683998  69.900002  68.854080  67.742599"
      ]
     },
     "execution_count": 124,
     "metadata": {},
     "output_type": "execute_result"
    }
   ],
   "source": [
    "model.fit(X_train_resid, y_train)\n",
    "pred = pd.DataFrame(\n",
    "    model.predict(X_train_resid),\n",
    "    index = df_train.index,\n",
    "    columns = y_train.columns\n",
    ")\n",
    "pred.head()"
   ]
  },
  {
   "cell_type": "code",
   "execution_count": 125,
   "metadata": {},
   "outputs": [],
   "source": [
    "from sklearn.metrics import mean_squared_error\n",
    "from sklearn.metrics import mean_absolute_percentage_error\n",
    "def evaluate(model, X_val, y_val):\n",
    "    pred = model.predict(X_val)\n",
    "    mse = mean_squared_error(pred, y_val)\n",
    "    mape = mean_absolute_percentage_error(pred, y_val)\n",
    "    print('Result - MSE: ', mse, ' - MAPE: ', mape)"
   ]
  },
  {
   "cell_type": "code",
   "execution_count": 126,
   "metadata": {},
   "outputs": [
    {
     "name": "stdout",
     "output_type": "stream",
     "text": [
      "Result - MSE:  28.291011515677013  - MAPE:  0.028458404925823466\n"
     ]
    }
   ],
   "source": [
    "evaluate(model, X_train_resid, y_train)"
   ]
  },
  {
   "cell_type": "code",
   "execution_count": 127,
   "metadata": {},
   "outputs": [],
   "source": [
    "# df_train['Value'].plot(label='Value')\n",
    "# pred.plot()"
   ]
  },
  {
   "cell_type": "code",
   "execution_count": 128,
   "metadata": {},
   "outputs": [
    {
     "name": "stdout",
     "output_type": "stream",
     "text": [
      "(88, 4)\n"
     ]
    },
    {
     "data": {
      "text/plain": [
       "0"
      ]
     },
     "metadata": {},
     "output_type": "display_data"
    },
    {
     "name": "stdout",
     "output_type": "stream",
     "text": [
      "(88, 7)\n"
     ]
    },
    {
     "data": {
      "text/plain": [
       "0"
      ]
     },
     "metadata": {},
     "output_type": "display_data"
    },
    {
     "name": "stdout",
     "output_type": "stream",
     "text": [
      "(88, 5)\n"
     ]
    },
    {
     "data": {
      "text/plain": [
       "0"
      ]
     },
     "metadata": {},
     "output_type": "display_data"
    }
   ],
   "source": [
    "X_val_trend, X_val_resid, y_val = [\n",
    "    feature_engineer.trend_features(df_val),\n",
    "    feature_engineer.residual_features(df_val),\n",
    "    feature_engineer.target(df_val)\n",
    "]\n",
    "for x in [X_val_trend, X_val_resid, y_val]:\n",
    "    print(x.shape)\n",
    "    # display(x.head())\n",
    "    display(x.isna().sum().sum())"
   ]
  },
  {
   "cell_type": "code",
   "execution_count": 129,
   "metadata": {},
   "outputs": [
    {
     "name": "stdout",
     "output_type": "stream",
     "text": [
      "Result - MSE:  1067.8023182345921  - MAPE:  0.2893866551076157\n"
     ]
    }
   ],
   "source": [
    "evaluate(model, X_val_resid, y_val)"
   ]
  },
  {
   "cell_type": "code",
   "execution_count": 130,
   "metadata": {},
   "outputs": [],
   "source": [
    "pred_val = pd.DataFrame(\n",
    "    model.predict(X_val_resid),\n",
    "    index = df_val.index, columns = y_val.columns\n",
    ")"
   ]
  },
  {
   "cell_type": "code",
   "execution_count": 131,
   "metadata": {},
   "outputs": [],
   "source": [
    "# for i in range(1, 6):\n",
    "#     name = f'y_step_{i}'\n",
    "#     real = y_val[name]\n",
    "#     pred = pred_val[name]\n",
    "#     real.plot(label=f'{name}-Real')\n",
    "#     pred.plot(label=f'{name}-Pred')\n",
    "#     plt.legend()\n",
    "#     plt.show()"
   ]
  },
  {
   "cell_type": "code",
   "execution_count": 132,
   "metadata": {},
   "outputs": [],
   "source": [
    "def plot_multistep(y, every=1, ax=None, palette_kwargs=None):\n",
    "    palette_kwargs_ = dict(palette='husl', n_colors=16, desat=None)\n",
    "    if palette_kwargs is not None:\n",
    "        palette_kwargs_.update(palette_kwargs)\n",
    "    palette = sns.color_palette(**palette_kwargs_)\n",
    "    if ax is None:\n",
    "        fig, ax = plt.subplots()\n",
    "    ax.set_prop_cycle(plt.cycler('color', palette))\n",
    "    for date, preds in y[::every].iterrows():\n",
    "        preds.index = pd.period_range(start=date, periods=len(preds))\n",
    "        preds.plot(ax=ax)\n",
    "    return ax\n",
    "\n",
    "plot_params = dict(\n",
    "    color=\"0.75\",\n",
    "    style=\".-\",\n",
    "    markeredgecolor=\"0.25\",\n",
    "    markerfacecolor=\"0.25\",\n",
    "    legend=False,\n",
    ")"
   ]
  },
  {
   "cell_type": "code",
   "execution_count": 133,
   "metadata": {},
   "outputs": [
    {
     "data": {
      "image/png": "[encoded data removed]",
      "text/plain": [
       "<Figure size 1080x720 with 1 Axes>"
      ]
     },
     "metadata": {},
     "output_type": "display_data"
    }
   ],
   "source": [
    "pred = pd.DataFrame(\n",
    "    model.predict(X_train_resid),\n",
    "    index = df_train.index, columns = y_train.columns\n",
    ")\n",
    "palette = dict(palette='husl', n_colors=64)\n",
    "ax2 = df_val['Value'].plot(**plot_params)\n",
    "ax2 = plot_multistep(pred_val, ax=ax2, palette_kwargs=palette, every=5)\n",
    "_ = ax2.legend(['Value', 'Forecast'])\n",
    "\n",
    "plt.show()"
   ]
  },
  {
   "cell_type": "code",
   "execution_count": 134,
   "metadata": {},
   "outputs": [
    {
     "data": {
      "image/png": "[encoded data removed]",
      "text/plain": [
       "<Figure size 792x288 with 1 Axes>"
      ]
     },
     "metadata": {},
     "output_type": "display_data"
    }
   ],
   "source": [
    "START = y_val.index[0]\n",
    "EVERY = 5\n",
    "y_pred_ = pred_val.loc[START:]\n",
    "y_ = df_val.loc[START:, 'Value']\n",
    "\n",
    "fig, ax = plt.subplots(1, 1, figsize=(11, 4))\n",
    "ax = y_.plot(**plot_params, ax=ax, alpha=0.5)\n",
    "ax = plot_multistep(y_pred_, ax=ax, every=EVERY)\n",
    "_ = ax.legend(['Value',' Forecast'])"
   ]
  },
  {
   "cell_type": "code",
   "execution_count": null,
   "metadata": {},
   "outputs": [],
   "source": []
  }
 ],
 "metadata": {
  "interpreter": {
   "hash": "dbd5bea911370489c6458bc4dc1ddafddd410f0ca74aced470acd31061c2c4f6"
  },
  "kernelspec": {
   "display_name": "Python 3.7.11 ('gpu-ML')",
   "language": "python",
   "name": "python3"
  },
  "language_info": {
   "codemirror_mode": {
    "name": "ipython",
    "version": 3
   },
   "file_extension": ".py",
   "mimetype": "text/x-python",
   "name": "python",
   "nbconvert_exporter": "python",
   "pygments_lexer": "ipython3",
   "version": "3.7.11"
  },
  "orig_nbformat": 4
 },
 "nbformat": 4,
 "nbformat_minor": 2
}
