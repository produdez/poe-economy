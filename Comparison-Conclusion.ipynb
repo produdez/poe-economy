{
 "cells": [
  {
   "cell_type": "markdown",
   "metadata": {},
   "source": [
    "# Comparisons\n",
    "`Here i will compare some models that i got from my experiments`"
   ]
  },
  {
   "cell_type": "markdown",
   "metadata": {},
   "source": [
    "## Between Basic Models\n",
    "AKA: Regressor Chain + a ML estimator"
   ]
  },
  {
   "cell_type": "markdown",
   "metadata": {},
   "source": [
    "#### Metrics"
   ]
  },
  {
   "cell_type": "markdown",
   "metadata": {},
   "source": [
    "| XGB | Linear |\n",
    "|:-:|:-:|\n",
    "| Train - MSE:  7.53105845751939  - MAPE:  0.011035900077256975 <br> Validation - MSE:  507.65123014649953  - MAPE:  0.20843280710415946  | Train - MSE:  106.38042378728706  - MAPE:  0.08073155407961008 <br> Validation - MSE:  641.3910963988691  - MAPE:  0.8447654033999796  |\n",
    "| Random Forest | Lasso |\n",
    "| Train - MSE:  38.85492334537362  - MAPE:  0.028339643484047005 <br> Validation - MSE:  229.7328160473544  - MAPE:  0.13655269690059174  | Train - MSE:  107.39459572425963  - MAPE:  0.07450078059603724 <br> Validation - MSE:  608.0200905144835  - MAPE:  0.5866070053312938  |"
   ]
  },
  {
   "cell_type": "markdown",
   "metadata": {},
   "source": [
    "### Prediction Plot"
   ]
  },
  {
   "cell_type": "markdown",
   "metadata": {},
   "source": [
    "| XGB ![image](experiments/output/XGB_stepped_predictions.png)  | Linear ![image](experiments/output/LinearReg_stepped_predictions.png)  |\n",
    "|:-:|:-:|\n",
    "| Random Forest ![image](experiments/output/RandomForest_stepped_predictions.png) | Lasso Reg ![image](experiments/output/LassoReg_stepped_predictions.png)  |\n",
    "\n",
    "\n",
    "\n",
    "\n",
    "\n",
    "\n",
    "\n",
    "\n"
   ]
  },
  {
   "cell_type": "markdown",
   "metadata": {},
   "source": [
    "### Feature Importance"
   ]
  },
  {
   "cell_type": "markdown",
   "metadata": {},
   "source": [
    "| XGB | Linear  |\n",
    "|:-:|:-:|\n",
    "| ![image](experiments/output/XGB_feature_importance.png)  | ![image](experiments/output/LinearReg_feature_importance.png)  |\n",
    "| Random Forest  | Lasso |\n",
    "| ![image](experiments/output/RandomForest_feature_importance.png)  | ![image](experiments/output/Lasso_feature_importance.png)  |"
   ]
  },
  {
   "cell_type": "markdown",
   "metadata": {},
   "source": [
    "## Neural Network\n",
    "Dense (FC) Network"
   ]
  },
  {
   "cell_type": "markdown",
   "metadata": {},
   "source": [
    "### Metrics"
   ]
  },
  {
   "cell_type": "markdown",
   "metadata": {},
   "source": [
    "| 64-64-5 Neural Net | t |\n",
    "|:-:|:-:|\n",
    "| Train - MSE:  293.6814056705342  - MAPE:  0.13048957917155468 <br> Validation - MSE:  555.9018139326597  - MAPE:  0.4687118958509964  | Train - MSE:  MSE:  206.07544173868268  - MAPE:  0.1285309895954809 <br> Validation - MSE:  544.8425907674072  - MAPE:  1.4895434302217323  |"
   ]
  },
  {
   "cell_type": "markdown",
   "metadata": {},
   "source": [
    "### Prediction Plot"
   ]
  },
  {
   "cell_type": "markdown",
   "metadata": {},
   "source": [
    "| 64-64-5 Neural Net ![image](experiments/output/64-64-node-NN_stepped_predictions.png)  | 200-100-5 Neural Net ![image](experiments/output/200-100-node-NN_stepped_predictions.png)  |\n",
    "|:-:|:-:|"
   ]
  },
  {
   "cell_type": "markdown",
   "metadata": {},
   "source": [
    "## Recursive Neural Network\n",
    "RNN, LSTM and some others"
   ]
  },
  {
   "cell_type": "markdown",
   "metadata": {},
   "source": [
    "### Metrics"
   ]
  },
  {
   "cell_type": "markdown",
   "metadata": {},
   "source": [
    "| RNN | LSTM  |\n",
    "|:-:|:-:|\n",
    "| Train - MSE:  359.2128780445586  - MAPE:  0.21603347115082663 <br> Val - MSE:  529.9260161329164  - MAPE:  2.4277646836982596  | Train - MSE:  213.7272108840553  - MAPE:  0.5609432917272069 <br> Val - MSE:  494.9706530364534  - MAPE:  10.608474134082993  |\n",
    "| Encoder Decoder LSTM  | Stacked LSTM |\n",
    "| Train - MSE:  228.11734486600363  - MAPE:  0.28687565089715966 <br> Val - MSE:  482.6882200915693  - MAPE:  4.495521934031617| Train - MSE:  12101.909945071115  - MAPE:  10.72318409652018 <br> Val - MSE:  16513.878259343805  - MAPE:  13.010073849359111  |"
   ]
  },
  {
   "cell_type": "markdown",
   "metadata": {},
   "source": [
    "## Prediction Plot"
   ]
  },
  {
   "cell_type": "markdown",
   "metadata": {},
   "source": [
    "| RNN ![image](experiments/output/RNN_stepped_predictions.png)  | LSTM ![image](experiments/output/LSTM_stepped_predictions.png)  |\n",
    "|:-:|:-:|\n",
    "| Encoder Decoder LSTM ![image](experiments/output/EncoderDecoderLSTM_stepped_predictions.png) | Stacked LSTM ![image](experiments/output/StackedLSTM_stepped_predictions.png)  |\n",
    "\n",
    "\n",
    "\n",
    "\n",
    "\n",
    "\n",
    "\n",
    "\n"
   ]
  },
  {
   "cell_type": "markdown",
   "metadata": {},
   "source": [
    "## Notable points"
   ]
  },
  {
   "cell_type": "markdown",
   "metadata": {},
   "source": [
    "1. Between different model groups\n",
    "    - RNN, LSTM and NN generally gives terrible result, and is completely random for each run with high result variance\n",
    "    - Mean while the simple Regressor Chain + Basic ML Model does perform quite well"
   ]
  },
  {
   "cell_type": "markdown",
   "metadata": {},
   "source": [
    "2. The worst performing parts of the prediction is the start and end of each league, due to\n",
    "    - Models unable to learn the point where the economy restarts\n",
    "    - Could be overfit or data is too difficult to learn"
   ]
  },
  {
   "cell_type": "markdown",
   "metadata": {},
   "source": [
    "3. Can seen that the plotted prediction is not very good\n",
    "   - The best model (Random Forest) only get as much as 0.13 MAPE in validation "
   ]
  },
  {
   "cell_type": "markdown",
   "metadata": {},
   "source": [
    "4. Feature importance\n",
    "    - I was able to extract feature importance from basic models\n",
    "    - And Random Forest stands out by only using very few features\n",
    "    - Including:\n",
    "      - Rolling Mean\n",
    "      - And Previous prediction from previous regressor in chain\n",
    "        - Minor features: rolling min, max, league day\n",
    "      - Most other features are 0"
   ]
  },
  {
   "cell_type": "markdown",
   "metadata": {},
   "source": [
    "# Conclusion"
   ]
  },
  {
   "cell_type": "markdown",
   "metadata": {},
   "source": [
    "## Notable Mention\n",
    "- Baseline model is `persistance model` where it just use the current value to predict the next 5 days (very bad result so i did not include)\n",
    "- Did try out Auto regressor ARIMA and LightGBM but only for a while and did not work with them due to being new to the framework of `sktime`\n",
    "- Spent most of my time (of this project) learning about ML in Time Series Data, which is a very big and complicated field, quite out of my reach as of currently."
   ]
  },
  {
   "cell_type": "markdown",
   "metadata": {},
   "source": [
    "## Achievement"
   ]
  },
  {
   "cell_type": "markdown",
   "metadata": {},
   "source": [
    "- Try out various types of model for multi-step prediction (5 steps)\n",
    "- Comparison between models\n",
    "- `Acceptable Result` (best at 0.13 MAPE - Exalted Orb)"
   ]
  },
  {
   "cell_type": "markdown",
   "metadata": {},
   "source": [
    "## Downsides"
   ]
  },
  {
   "cell_type": "markdown",
   "metadata": {},
   "source": [
    "- Model result varies for each different training object\n",
    "  - Best being ~0.08-0.09 MAPE\n",
    "  - Worst being ~0.36 MAPE (Blessing of Chayula)\n",
    "  - Lower tier object seems to fluctuate less leading to better fit compared to higher tiers\n",
    "- The used data is very random with no trend, no seasonality and probably no cycles also\n",
    "- There are probably some other problems that might not be realized and fix:\n",
    "    1. Overfitting\n",
    "    2. More Preprocessing?\n",
    "    3. Better feature engineering\n",
    "    4. Overall lack of experience and techniques"
   ]
  },
  {
   "cell_type": "markdown",
   "metadata": {},
   "source": [
    "# Possible improvements \n",
    "(Future work)"
   ]
  },
  {
   "cell_type": "markdown",
   "metadata": {},
   "source": [
    "- Test with live data, making use of the economy's market API\n",
    "- Development into a functional tool? (comes with many problems of course)\n",
    "- More research overall"
   ]
  }
 ],
 "metadata": {
  "interpreter": {
   "hash": "dbd5bea911370489c6458bc4dc1ddafddd410f0ca74aced470acd31061c2c4f6"
  },
  "kernelspec": {
   "display_name": "Python 3.7.11 ('gpu-ML')",
   "language": "python",
   "name": "python3"
  },
  "language_info": {
   "name": "python",
   "version": "3.7.11"
  },
  "orig_nbformat": 4
 },
 "nbformat": 4,
 "nbformat_minor": 2
}
