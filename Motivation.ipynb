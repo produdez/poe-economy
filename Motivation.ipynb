{
 "cells": [
  {
   "cell_type": "markdown",
   "metadata": {},
   "source": [
    "# Project Motivations"
   ]
  },
  {
   "cell_type": "markdown",
   "metadata": {},
   "source": [
    "## The \"LEAGUE\" Mechanic"
   ]
  },
  {
   "cell_type": "markdown",
   "metadata": {},
   "source": [
    "**The reason that I find POE's market to be interesting and unique is because of the game's League Mechanic.**\n",
    "\n",
    "`A league`: is usually a time period of gameplay of 3 months where the developer would usually introduce some new gameplay mechanic to make the game new and appealing to new players."
   ]
  },
  {
   "cell_type": "markdown",
   "metadata": {},
   "source": [
    "As of currently (31-12-2021), the game has gone through almost `35` leagues already.\n",
    "![image](images/poe_leagues.png)"
   ]
  },
  {
   "cell_type": "markdown",
   "metadata": {},
   "source": [
    "\n",
    "```\n",
    "At the start of each league, the previous economy is also reset and everyone will start the new league at the same place (with zero asset) and have to start making money by adventuring in the game itself.\n",
    "```"
   ]
  },
  {
   "cell_type": "markdown",
   "metadata": {},
   "source": [
    "This is why the in game economy usually follows a repeated trend:\n",
    "- Items are high price at the start when they're still rare and less available\n",
    "- The price drop slowly at the end of the league where stuff are more available\n",
    "- People also tend to reduce item prices at the end of league since they will be reset anyways\n",
    "\n"
   ]
  },
  {
   "cell_type": "markdown",
   "metadata": {},
   "source": [
    "Because of the usual trend, players are encouraged to jump into playing the game at the early stages of a league start. It always have a fresh and fair feeling where the whole player base starts equal and work their way up. Also:\n",
    "- The idea that `the early bird gets the worm` is very enticing, who ever gets the item first is guarantee to be able to set a higher price for the item\n",
    "- People that gets lucky with high value item drop early can easily build a fortune quickly\n",
    "- Item scarcity also means `low value` items will have a decent price at the start when the market is not saturated"
   ]
  },
  {
   "cell_type": "markdown",
   "metadata": {},
   "source": [
    "Here is a graph `Mirror Of Kalandra`, one of the rarest items of the game. The graph has:\n",
    "- Plot of price over some leagues\n",
    "- Price is in `Chaos Orb` currency\n",
    "- Time is 120 days (3 months)\n",
    "\n",
    "\n",
    "![image](images/poe_mirror_price.png)"
   ]
  },
  {
   "cell_type": "markdown",
   "metadata": {},
   "source": [
    "## The Motivation"
   ]
  },
  {
   "cell_type": "markdown",
   "metadata": {},
   "source": [
    "As seen from the graph and the repeating seasonal trend of the economy that i've mentioned above, I came to the question of:\n",
    "\n",
    "```\n",
    "What if we can learn from this historical data and apply it to use in future leagues' prediction?\n",
    "```"
   ]
  },
  {
   "cell_type": "markdown",
   "metadata": {},
   "source": [
    "From this question, my `idea` is to:\n",
    "- Use ML method to learn from this economy historical data to capture its seasonal trend\n",
    "- Combine with some `current` information of current league, we (hopefully) can give an accurate prediction of an item's price at some point in time"
   ]
  },
  {
   "cell_type": "markdown",
   "metadata": {},
   "source": [
    "`This will help us to:`\n",
    "- Learn the in game economy and hopefully gain some real world knowledge\n",
    "- Make some useful prediction that is somewhat accurate\n",
    "- In the future, use the model to develop a simple tool for price calculation"
   ]
  },
  {
   "cell_type": "markdown",
   "metadata": {},
   "source": [
    "### Why choose this specific project?"
   ]
  },
  {
   "cell_type": "markdown",
   "metadata": {},
   "source": [
    "I understand that the project itself is of little practical use in the real world and have relative tiny relation with any problems in my country 'VietNam'\n",
    "\n",
    "**BUT**\n",
    "```\n",
    "- It is a study on economics, at least a more restricted, experimental version of the economy.\n",
    "- It deals with time-series data, which is very typical in price and stock market\n",
    "- It has a practical application in the game itself as a price prediction tool in the future\n",
    "- And it's interesting to me right now, that's one of the important motivations for the topic\n",
    "```\n",
    "\n",
    "**That is why I choose to do this project, as a learning experiment and also a somewhat practical approach to solving a problem. The game environment also allows for easier experiment and testing of the results.**"
   ]
  },
  {
   "cell_type": "markdown",
   "metadata": {},
   "source": []
  }
 ],
 "metadata": {
  "language_info": {
   "name": "python"
  },
  "orig_nbformat": 4
 },
 "nbformat": 4,
 "nbformat_minor": 2
}
